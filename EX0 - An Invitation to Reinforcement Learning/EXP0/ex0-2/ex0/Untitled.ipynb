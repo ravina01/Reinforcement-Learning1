{
 "cells": [
  {
   "cell_type": "code",
   "execution_count": 1,
   "id": "e04e260f",
   "metadata": {},
   "outputs": [],
   "source": [
    "import numpy as np\n",
    "import matplotlib.pyplot as plt\n",
    "from typing import Tuple, Callable\n",
    "from enum import IntEnum"
   ]
  },
  {
   "cell_type": "code",
   "execution_count": 2,
   "id": "58aa230b",
   "metadata": {},
   "outputs": [],
   "source": [
    "class Action(IntEnum):\n",
    "    \"\"\"Action\"\"\"\n",
    "\n",
    "    LEFT = 0\n",
    "    DOWN = 1\n",
    "    RIGHT = 2\n",
    "    UP = 3"
   ]
  },
  {
   "cell_type": "code",
   "execution_count": 3,
   "id": "65c0963f",
   "metadata": {},
   "outputs": [],
   "source": [
    "def actions_to_dxdy(action: Action):\n",
    "    \"\"\"\n",
    "    Helper function to map action to changes in x and y coordinates\n",
    "\n",
    "    Args:\n",
    "        action (Action): taken action\n",
    "\n",
    "    Returns:\n",
    "        dxdy (Tuple[int, int]): Change in x and y coordinates\n",
    "    \"\"\"\n",
    "    mapping = {\n",
    "        Action.LEFT: (-1, 0),\n",
    "        Action.DOWN: (0, -1),\n",
    "        Action.RIGHT: (1, 0),\n",
    "        Action.UP: (0, 1),\n",
    "    }\n",
    "    return mapping[action]\n",
    "\n",
    "\n",
    "def reset():\n",
    "    \"\"\"Return agent to start state\"\"\"\n",
    "    return (0, 0)"
   ]
  },
  {
   "cell_type": "code",
   "execution_count": 10,
   "id": "d713b5d2",
   "metadata": {},
   "outputs": [],
   "source": [
    "# Q1\n",
    "def simulate(state: Tuple[int, int], action: Action):\n",
    "    \"\"\"Simulate function for Four Rooms environment\n",
    "\n",
    "    Implements the transition function p(next_state, reward | state, action).\n",
    "    The general structure of this function is:\n",
    "        1. If goal was reached, reset agent to start state\n",
    "        2. Calculate the action taken from selected action (stochastic transition)\n",
    "        3. Calculate the next state from the action taken (accounting for boundaries/walls)\n",
    "        4. Calculate the reward\n",
    "\n",
    "    Args:\n",
    "        state (Tuple[int, int]): current agent position (e.g. (1, 3))\n",
    "        action (Action): selected action from current agent position (must be of type Action defined above)\n",
    "\n",
    "    Returns:\n",
    "        next_state (Tuple[int, int]): next agent position\n",
    "        reward (float): reward for taking action in state\n",
    "    \"\"\"\n",
    "    # Walls are listed for you\n",
    "    # Coordinate system is (x, y) where x is the horizontal and y is the vertical direction\n",
    "    walls = [\n",
    "        (0, 5),\n",
    "        (2, 5),\n",
    "        (3, 5),\n",
    "        (4, 5),\n",
    "        (5, 0),\n",
    "        (5, 2),\n",
    "        (5, 3),\n",
    "        (5, 4),\n",
    "        (5, 5),\n",
    "        (5, 6),\n",
    "        (5, 7),\n",
    "        (5, 9),\n",
    "        (5, 10),\n",
    "        (6, 4),\n",
    "        (7, 4),\n",
    "        (9, 4),\n",
    "        (10, 4),\n",
    "    ]\n",
    "\n",
    "    # TODO check if goal was reached\n",
    "    goal_state = (10, 10)\n",
    "    if state == goal_state:\n",
    "        next_state = reset()\n",
    "        reward = 1\n",
    "        return next_state, reward\n",
    "\n",
    "    # TODO modify action_taken so that 10% of the time, the action_taken is perpendicular to action (there are 2 perpendicular actions for each action)\n",
    "    action_taken = action\n",
    "\n",
    "    # TODO calculate the next state and reward given state and action_taken\n",
    "    # You can use actions_to_dxdy() to calculate the next state\n",
    "    dxdy = actions_to_dxdy(action_taken)\n",
    "    # Check that the next state is within boundaries and is not a wall\n",
    "    next_state = (state[0] + dxdy[0], state[1] + dxdy[1])\n",
    "    # One possible way to work with boundaries is to add a boundary wall around environment and\n",
    "    if next_state in walls:\n",
    "        next_state = state\n",
    "    # simply check whether the next state is a wall\n",
    "    reward = 0 if next_state != goal_state else 1\n",
    "    \n",
    "    next_state = None\n",
    "    reward = None\n",
    "\n",
    "    return next_state, reward"
   ]
  },
  {
   "cell_type": "code",
   "execution_count": 12,
   "id": "a1492977",
   "metadata": {},
   "outputs": [
    {
     "name": "stdout",
     "output_type": "stream",
     "text": [
      "(0, 0) 1\n"
     ]
    }
   ],
   "source": [
    "def main():\n",
    "    # TODO run code for Q2~Q4 and plot results\n",
    "    # You may be able to reuse the agent() function for each question\n",
    "    next_state, reward = simulate((10,10), \"UP\")\n",
    "    print(next_state, reward)\n",
    "    pass\n",
    "\n",
    "\n",
    "if __name__ == \"__main__\":\n",
    "    main()"
   ]
  },
  {
   "cell_type": "code",
   "execution_count": null,
   "id": "df8e11ed",
   "metadata": {},
   "outputs": [],
   "source": []
  }
 ],
 "metadata": {
  "kernelspec": {
   "display_name": "Python 3 (ipykernel)",
   "language": "python",
   "name": "python3"
  },
  "language_info": {
   "codemirror_mode": {
    "name": "ipython",
    "version": 3
   },
   "file_extension": ".py",
   "mimetype": "text/x-python",
   "name": "python",
   "nbconvert_exporter": "python",
   "pygments_lexer": "ipython3",
   "version": "3.9.13"
  }
 },
 "nbformat": 4,
 "nbformat_minor": 5
}
